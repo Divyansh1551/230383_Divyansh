{
  "nbformat": 4,
  "nbformat_minor": 0,
  "metadata": {
    "colab": {
      "provenance": []
    },
    "kernelspec": {
      "name": "python3",
      "display_name": "Python 3"
    },
    "language_info": {
      "name": "python"
    }
  },
  "cells": [
    {
      "cell_type": "code",
      "source": [
        "import math\n",
        "def sigmoid(x):\n",
        "  l=[]\n",
        "  for i in range(len(x)):\n",
        "    l.append(math.pow(math.e, x[i])/(math.pow(math.e, x[i])+1))\n",
        "  return l\n",
        "\n",
        "def sigmoid_derivative(x):\n",
        "  l=[]\n",
        "  for i in range(len(x)):\n",
        "    l.append(math.pow(math.e, -1*x[i])/(1+math.pow(math.e, -x[i]))*(1+math.pow(math.e, -x[i])))\n",
        "  return l\n",
        "\n",
        "print(sigmoid_derivative([1,2,3,4,5,6]))"
      ],
      "metadata": {
        "colab": {
          "base_uri": "https://localhost:8080/"
        },
        "id": "SM_2nYnt-A9N",
        "outputId": "6a3d5a51-f5c0-4b71-f24e-4a2289d6686c"
      },
      "execution_count": 38,
      "outputs": [
        {
          "output_type": "stream",
          "name": "stdout",
          "text": [
            "[0.3678794411714423, 0.1353352832366127, 0.04978706836786395, 0.018315638888734186, 0.006737946999085469, 0.0024787521766663594]\n"
          ]
        }
      ]
    },
    {
      "cell_type": "code",
      "source": [
        "import numpy as np\n",
        "import pandas as pd\n",
        "import matplotlib.pyplot as plt\n",
        "import math\n",
        "df = pd.read_csv(\"superheated_vapor_properties.csv\")\n",
        "print(df.shape)\n",
        "l= np.array([])\n",
        "d={}\n",
        "for i in df:\n",
        "  l.append(i)\n",
        "  null_count= df[i].isnull().sum()\n",
        "  d[i]=null_count\n",
        "  print(\"No of null: \", null_count)\n",
        "\n",
        "print(\"Names of columns: \")\n",
        "print(l)\n",
        "df[\"Enthalpy at 75 Kpa\"]= df[\"Enthalpy\"] + \"at\" + df[\"Pressure\"].astype(str)\n",
        "df[\"Entropy at 250Kpa\"]= df[\"Entropy\"] + \"at\" + df[\"Pressure\"].astype(str)\n",
        "idx1=df[df[\"Enthalpy at 75 Kpa\"]=='V at 10.0'].index\n",
        "df['75'].loc[idx1].item()\n",
        "idx2=df[df[\"Entropy at 250Kpa\"]==\"V at 10.0\"].index\n",
        "df[\"250\"].loc[idx2].item()\n"
      ],
      "metadata": {
        "id": "8OE2sWQl-CXk"
      },
      "execution_count": null,
      "outputs": []
    },
    {
      "cell_type": "code",
      "execution_count": 24,
      "metadata": {
        "colab": {
          "base_uri": "https://localhost:8080/"
        },
        "id": "3zlMlHMqnB-x",
        "outputId": "29f071b3-b5ea-43dc-82f3-4ba0ee9ddabc"
      },
      "outputs": [
        {
          "output_type": "stream",
          "name": "stdout",
          "text": [
            "By loops\n",
            "[[14], [32]]\n",
            "By numpy:  \n",
            "[[14]\n",
            " [32]]\n"
          ]
        }
      ],
      "source": [
        "import numpy as np\n",
        "import pandas as pd\n",
        "import matplotlib.pyplot as plt\n",
        "def is_valid(A,B):\n",
        "  shape1= np.shape(A)\n",
        "  shape2= np.shape(B)\n",
        "  if(shape1[1]==shape2[0]):\n",
        "    return True\n",
        "  else:\n",
        "    return False\n",
        "\n",
        "def matrix_multiply(A,B):\n",
        "  a_rows= len(A)\n",
        "  b_rows= len(B)\n",
        "  a_columns= len(A[0])\n",
        "  b_columns= len(B[0])\n",
        "  product= [[0 for _ in range(b_columns)] for _ in range(a_rows)]\n",
        "\n",
        "  for i in range(a_rows):\n",
        "        for j in range(b_columns):\n",
        "            for k in range(a_columns):\n",
        "                product[i][j] += A[i][k] * B[k][j]\n",
        "  return product\n",
        "\n",
        "def matrix_multiply2(A,B):\n",
        "  mat_A= np.matrix(A)\n",
        "  mat_B= np.matrix(B)\n",
        "  C= np.dot(A,B)\n",
        "  return C\n",
        "\n",
        "X= [[1,2,3],\n",
        "    [4,5,6]]\n",
        "Y= [[1],\n",
        "    [2],\n",
        "    [3]]\n",
        "if(is_valid(X,Y)):\n",
        "  print(\"By loops\")\n",
        "  C= matrix_multiply(X,Y)\n",
        "  print(C)\n",
        "  print(\"By numpy:  \" )\n",
        "  D= matrix_multiply2(X,Y)\n",
        "  print(D)\n",
        "\n",
        "else:\n",
        "  print(\"not valid multiplication\")"
      ]
    },
    {
      "cell_type": "code",
      "source": [
        "import numpy as np\n",
        "import pandas as pd\n",
        "import matplotlib.pyplot as plt\n",
        "import math\n",
        "\n",
        "def mean(lis):\n",
        "  sum=0\n",
        "  for i in lis:\n",
        "    sum= sum+i\n",
        "  return sum/len(lis)\n",
        "\n",
        "def standard_deviation(lis):\n",
        "  avg = mean(lis)\n",
        "  square=0\n",
        "  for j in range(len(lis)):\n",
        "    square= square+ (lis[j]-avg)*(lis[j]-avg)\n",
        "  variance= square/len(lis)\n",
        "  return math.sqrt(variance)\n",
        "\n",
        "def z_score(lis):\n",
        "  list1=[]\n",
        "  for i in range(len(lis)):\n",
        "    list1.append((lis[i]-mean(lis))/standard_deviation(lis))\n",
        "  return list1\n",
        "\n",
        "def z_score2(lis):\n",
        "  avg= np.mean(lis)\n",
        "  st= np.std(lis)\n",
        "  z_scores = [(x - avg) / st for x in lis]\n",
        "  return z_scores\n",
        "\n",
        "l= np.array([1,2,3,4,5])\n",
        "print(\"without Using numpy\")\n",
        "print(z_score(l))\n",
        "print(\"with using numpy\")\n",
        "print(z_score2(l))"
      ],
      "metadata": {
        "colab": {
          "base_uri": "https://localhost:8080/"
        },
        "id": "X4OXMPq41PAl",
        "outputId": "1a4832e7-eae3-443c-fad0-392a99f3e654"
      },
      "execution_count": 1,
      "outputs": [
        {
          "output_type": "stream",
          "name": "stdout",
          "text": [
            "without Using numpy\n",
            "[-1.414213562373095, -0.7071067811865475, 0.0, 0.7071067811865475, 1.414213562373095]\n",
            "with using numpy\n",
            "[-1.414213562373095, -0.7071067811865475, 0.0, 0.7071067811865475, 1.414213562373095]\n"
          ]
        }
      ]
    },
    {
      "cell_type": "code",
      "source": [
        "import matplotlib.pyplot as plt\n",
        "import numpy as np\n",
        "\n"
      ],
      "metadata": {
        "id": "uXnv_kya_laL"
      },
      "execution_count": null,
      "outputs": []
    },
    {
      "cell_type": "code",
      "source": [
        "import matplotlib.pyplot as plt\n",
        "import numpy as np\n",
        "\n",
        "x = np.random.rand(100)*100\n",
        "y = -4*x+15\n",
        "y = y+np.random.randn(100)*30\n",
        "plt.scatter(x,y)"
      ],
      "metadata": {
        "colab": {
          "base_uri": "https://localhost:8080/",
          "height": 448
        },
        "id": "ftbV-tpdL4hs",
        "outputId": "b467a6aa-ce66-4079-e75a-f7fdd70a1c9b"
      },
      "execution_count": 2,
      "outputs": [
        {
          "output_type": "execute_result",
          "data": {
            "text/plain": [
              "<matplotlib.collections.PathCollection at 0x7983a49debc0>"
            ]
          },
          "metadata": {},
          "execution_count": 2
        },
        {
          "output_type": "display_data",
          "data": {
            "text/plain": [
              "<Figure size 640x480 with 1 Axes>"
            ],
            "image/png": "[encoded data removed]"
          },
          "metadata": {}
        }
      ]
    },
    {
      "cell_type": "code",
      "source": [
        "import matplotlib.pyplot as plt\n",
        "import numpy as np\n",
        "\n",
        "x = np.random.rand(100)*100\n",
        "y = -4*x+15\n",
        "y = y+np.random.randn(100)*30\n",
        "plt.scatter(x,y)\n",
        "\n",
        "m = 0\n",
        "c = 0\n",
        "l_r = 0.0001\n",
        "epochs = 1000\n",
        "\n",
        "for i in range(epochs):\n",
        "    y_pred = m * x + c\n",
        "\n",
        "    delm = (-2 / len(x)) * np.sum((y - y_pred) * x)\n",
        "    delc = (-2 / len(x)) * np.sum(y - y_pred)\n",
        "\n",
        "    m -= l_r * delm\n",
        "    c -= l_r * delc\n",
        "\n",
        "\n",
        "print(\"Estimated slope (m)\")\n",
        "print(m)\n",
        "print(\"Estimated intercept (c)\")\n",
        "print(c)\n",
        "plt.plot(x, m * x + c, color='green')\n",
        "plt.xlabel('X')\n",
        "plt.ylabel('Y')\n",
        "plt.title('Linear Regression Example')\n",
        "plt.show()"
      ],
      "metadata": {
        "colab": {
          "base_uri": "https://localhost:8080/",
          "height": 543
        },
        "id": "bWlOeC76MIzq",
        "outputId": "5116bedf-81f8-49ba-84cc-ce7319023d07"
      },
      "execution_count": 10,
      "outputs": [
        {
          "output_type": "stream",
          "name": "stdout",
          "text": [
            "Estimated slope (m)\n",
            "-3.72362815885115\n",
            "Estimated intercept (c)\n",
            "0.14169223240131165\n"
          ]
        },
        {
          "output_type": "display_data",
          "data": {
            "text/plain": [
              "<Figure size 640x480 with 1 Axes>"
            ],
            "image/png": "[encoded data removed]"
          },
          "metadata": {}
        }
      ]
    }
  ]
}